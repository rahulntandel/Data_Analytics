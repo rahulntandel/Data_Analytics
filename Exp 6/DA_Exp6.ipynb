{
  "cells": [
    {
      "cell_type": "markdown",
      "metadata": {
        "id": "view-in-github",
        "colab_type": "text"
      },
      "source": [
        "<a href=\"https://colab.research.google.com/github/rahulntandel/Data_Analytics/blob/main/DA_Exp6.ipynb\" target=\"_parent\"><img src=\"https://colab.research.google.com/assets/colab-badge.svg\" alt=\"Open In Colab\"/></a>"
      ]
    },
    {
      "cell_type": "code",
      "execution_count": 10,
      "metadata": {
        "colab": {
          "base_uri": "https://localhost:8080/"
        },
        "id": "nV36QoyYr5A3",
        "outputId": "909b49f7-4695-40b4-d230-896c662864b3"
      },
      "outputs": [
        {
          "output_type": "stream",
          "name": "stdout",
          "text": [
            "Mounted at /content/drive\n"
          ]
        }
      ],
      "source": [
        "#Import files\n",
        "import pandas as pd\n",
        "import numpy as np\n",
        "import matplotlib as mpl\n",
        "import matplotlib.pyplot as plt\n",
        "import plotly.express as px\n",
        "from sklearn.metrics import confusion_matrix\n",
        "\n",
        "#Google drive \n",
        "from google.colab import drive\n",
        "drive.mount('/content/drive', force_remount = True)"
      ]
    },
    {
      "cell_type": "code",
      "source": [
        "from google.colab import drive\n",
        "drive.mount('/content/drive')"
      ],
      "metadata": {
        "colab": {
          "base_uri": "https://localhost:8080/"
        },
        "id": "VuB-Vn_lf6Iu",
        "outputId": "a01c0b92-1da9-4048-89ef-0eb3662ba6c8"
      },
      "execution_count": 11,
      "outputs": [
        {
          "output_type": "stream",
          "name": "stdout",
          "text": [
            "Drive already mounted at /content/drive; to attempt to forcibly remount, call drive.mount(\"/content/drive\", force_remount=True).\n"
          ]
        }
      ]
    },
    {
      "cell_type": "code",
      "execution_count": 12,
      "metadata": {
        "colab": {
          "base_uri": "https://localhost:8080/",
          "height": 424
        },
        "id": "FKSAFroHsQbN",
        "outputId": "7dca713d-0f45-460f-c0c0-47cd4d770c01"
      },
      "outputs": [
        {
          "output_type": "display_data",
          "data": {
            "text/plain": [
              "      hypertensive  heart rate    Systolic  Diastolic   Temperature       SPO2\n",
              "0                0   68.837838  155.866667   68.333333    36.714286  98.394737\n",
              "1                0  101.370370  140.000000   65.000000    36.682540  96.923077\n",
              "2                0   72.318182  135.333333   61.375000    36.453704  95.291667\n",
              "3                0   94.500000  126.400000   73.200000    36.287037  93.846154\n",
              "4                1   67.920000  156.560000   58.120000    36.761905  99.280000\n",
              "...            ...         ...         ...         ...          ...        ...\n",
              "1172             1  100.125000  142.545455   69.681818    37.055556  94.130435\n",
              "1173             0  114.640000  101.222222   51.888889    35.972222  93.526316\n",
              "1174             1   52.720000  137.791667   40.958333    36.777778  98.800000\n",
              "1175             0   93.400000   94.416667   62.458333    36.422222  99.560000\n",
              "1176             1   67.289855  131.523077   72.276923    37.716667  99.652174\n",
              "\n",
              "[1177 rows x 6 columns]"
            ],
            "text/html": [
              "\n",
              "  <div id=\"df-b2ad9fe8-9535-49ff-994f-19114a283001\">\n",
              "    <div class=\"colab-df-container\">\n",
              "      <div>\n",
              "<style scoped>\n",
              "    .dataframe tbody tr th:only-of-type {\n",
              "        vertical-align: middle;\n",
              "    }\n",
              "\n",
              "    .dataframe tbody tr th {\n",
              "        vertical-align: top;\n",
              "    }\n",
              "\n",
              "    .dataframe thead th {\n",
              "        text-align: right;\n",
              "    }\n",
              "</style>\n",
              "<table border=\"1\" class=\"dataframe\">\n",
              "  <thead>\n",
              "    <tr style=\"text-align: right;\">\n",
              "      <th></th>\n",
              "      <th>hypertensive</th>\n",
              "      <th>heart rate</th>\n",
              "      <th>Systolic</th>\n",
              "      <th>Diastolic</th>\n",
              "      <th>Temperature</th>\n",
              "      <th>SPO2</th>\n",
              "    </tr>\n",
              "  </thead>\n",
              "  <tbody>\n",
              "    <tr>\n",
              "      <th>0</th>\n",
              "      <td>0</td>\n",
              "      <td>68.837838</td>\n",
              "      <td>155.866667</td>\n",
              "      <td>68.333333</td>\n",
              "      <td>36.714286</td>\n",
              "      <td>98.394737</td>\n",
              "    </tr>\n",
              "    <tr>\n",
              "      <th>1</th>\n",
              "      <td>0</td>\n",
              "      <td>101.370370</td>\n",
              "      <td>140.000000</td>\n",
              "      <td>65.000000</td>\n",
              "      <td>36.682540</td>\n",
              "      <td>96.923077</td>\n",
              "    </tr>\n",
              "    <tr>\n",
              "      <th>2</th>\n",
              "      <td>0</td>\n",
              "      <td>72.318182</td>\n",
              "      <td>135.333333</td>\n",
              "      <td>61.375000</td>\n",
              "      <td>36.453704</td>\n",
              "      <td>95.291667</td>\n",
              "    </tr>\n",
              "    <tr>\n",
              "      <th>3</th>\n",
              "      <td>0</td>\n",
              "      <td>94.500000</td>\n",
              "      <td>126.400000</td>\n",
              "      <td>73.200000</td>\n",
              "      <td>36.287037</td>\n",
              "      <td>93.846154</td>\n",
              "    </tr>\n",
              "    <tr>\n",
              "      <th>4</th>\n",
              "      <td>1</td>\n",
              "      <td>67.920000</td>\n",
              "      <td>156.560000</td>\n",
              "      <td>58.120000</td>\n",
              "      <td>36.761905</td>\n",
              "      <td>99.280000</td>\n",
              "    </tr>\n",
              "    <tr>\n",
              "      <th>...</th>\n",
              "      <td>...</td>\n",
              "      <td>...</td>\n",
              "      <td>...</td>\n",
              "      <td>...</td>\n",
              "      <td>...</td>\n",
              "      <td>...</td>\n",
              "    </tr>\n",
              "    <tr>\n",
              "      <th>1172</th>\n",
              "      <td>1</td>\n",
              "      <td>100.125000</td>\n",
              "      <td>142.545455</td>\n",
              "      <td>69.681818</td>\n",
              "      <td>37.055556</td>\n",
              "      <td>94.130435</td>\n",
              "    </tr>\n",
              "    <tr>\n",
              "      <th>1173</th>\n",
              "      <td>0</td>\n",
              "      <td>114.640000</td>\n",
              "      <td>101.222222</td>\n",
              "      <td>51.888889</td>\n",
              "      <td>35.972222</td>\n",
              "      <td>93.526316</td>\n",
              "    </tr>\n",
              "    <tr>\n",
              "      <th>1174</th>\n",
              "      <td>1</td>\n",
              "      <td>52.720000</td>\n",
              "      <td>137.791667</td>\n",
              "      <td>40.958333</td>\n",
              "      <td>36.777778</td>\n",
              "      <td>98.800000</td>\n",
              "    </tr>\n",
              "    <tr>\n",
              "      <th>1175</th>\n",
              "      <td>0</td>\n",
              "      <td>93.400000</td>\n",
              "      <td>94.416667</td>\n",
              "      <td>62.458333</td>\n",
              "      <td>36.422222</td>\n",
              "      <td>99.560000</td>\n",
              "    </tr>\n",
              "    <tr>\n",
              "      <th>1176</th>\n",
              "      <td>1</td>\n",
              "      <td>67.289855</td>\n",
              "      <td>131.523077</td>\n",
              "      <td>72.276923</td>\n",
              "      <td>37.716667</td>\n",
              "      <td>99.652174</td>\n",
              "    </tr>\n",
              "  </tbody>\n",
              "</table>\n",
              "<p>1177 rows × 6 columns</p>\n",
              "</div>\n",
              "      <button class=\"colab-df-convert\" onclick=\"convertToInteractive('df-b2ad9fe8-9535-49ff-994f-19114a283001')\"\n",
              "              title=\"Convert this dataframe to an interactive table.\"\n",
              "              style=\"display:none;\">\n",
              "        \n",
              "  <svg xmlns=\"http://www.w3.org/2000/svg\" height=\"24px\"viewBox=\"0 0 24 24\"\n",
              "       width=\"24px\">\n",
              "    <path d=\"M0 0h24v24H0V0z\" fill=\"none\"/>\n",
              "    <path d=\"M18.56 5.44l.94 2.06.94-2.06 2.06-.94-2.06-.94-.94-2.06-.94 2.06-2.06.94zm-11 1L8.5 8.5l.94-2.06 2.06-.94-2.06-.94L8.5 2.5l-.94 2.06-2.06.94zm10 10l.94 2.06.94-2.06 2.06-.94-2.06-.94-.94-2.06-.94 2.06-2.06.94z\"/><path d=\"M17.41 7.96l-1.37-1.37c-.4-.4-.92-.59-1.43-.59-.52 0-1.04.2-1.43.59L10.3 9.45l-7.72 7.72c-.78.78-.78 2.05 0 2.83L4 21.41c.39.39.9.59 1.41.59.51 0 1.02-.2 1.41-.59l7.78-7.78 2.81-2.81c.8-.78.8-2.07 0-2.86zM5.41 20L4 18.59l7.72-7.72 1.47 1.35L5.41 20z\"/>\n",
              "  </svg>\n",
              "      </button>\n",
              "      \n",
              "  <style>\n",
              "    .colab-df-container {\n",
              "      display:flex;\n",
              "      flex-wrap:wrap;\n",
              "      gap: 12px;\n",
              "    }\n",
              "\n",
              "    .colab-df-convert {\n",
              "      background-color: #E8F0FE;\n",
              "      border: none;\n",
              "      border-radius: 50%;\n",
              "      cursor: pointer;\n",
              "      display: none;\n",
              "      fill: #1967D2;\n",
              "      height: 32px;\n",
              "      padding: 0 0 0 0;\n",
              "      width: 32px;\n",
              "    }\n",
              "\n",
              "    .colab-df-convert:hover {\n",
              "      background-color: #E2EBFA;\n",
              "      box-shadow: 0px 1px 2px rgba(60, 64, 67, 0.3), 0px 1px 3px 1px rgba(60, 64, 67, 0.15);\n",
              "      fill: #174EA6;\n",
              "    }\n",
              "\n",
              "    [theme=dark] .colab-df-convert {\n",
              "      background-color: #3B4455;\n",
              "      fill: #D2E3FC;\n",
              "    }\n",
              "\n",
              "    [theme=dark] .colab-df-convert:hover {\n",
              "      background-color: #434B5C;\n",
              "      box-shadow: 0px 1px 3px 1px rgba(0, 0, 0, 0.15);\n",
              "      filter: drop-shadow(0px 1px 2px rgba(0, 0, 0, 0.3));\n",
              "      fill: #FFFFFF;\n",
              "    }\n",
              "  </style>\n",
              "\n",
              "      <script>\n",
              "        const buttonEl =\n",
              "          document.querySelector('#df-b2ad9fe8-9535-49ff-994f-19114a283001 button.colab-df-convert');\n",
              "        buttonEl.style.display =\n",
              "          google.colab.kernel.accessAllowed ? 'block' : 'none';\n",
              "\n",
              "        async function convertToInteractive(key) {\n",
              "          const element = document.querySelector('#df-b2ad9fe8-9535-49ff-994f-19114a283001');\n",
              "          const dataTable =\n",
              "            await google.colab.kernel.invokeFunction('convertToInteractive',\n",
              "                                                     [key], {});\n",
              "          if (!dataTable) return;\n",
              "\n",
              "          const docLinkHtml = 'Like what you see? Visit the ' +\n",
              "            '<a target=\"_blank\" href=https://colab.research.google.com/notebooks/data_table.ipynb>data table notebook</a>'\n",
              "            + ' to learn more about interactive tables.';\n",
              "          element.innerHTML = '';\n",
              "          dataTable['output_type'] = 'display_data';\n",
              "          await google.colab.output.renderOutput(dataTable, element);\n",
              "          const docLink = document.createElement('div');\n",
              "          docLink.innerHTML = docLinkHtml;\n",
              "          element.appendChild(docLink);\n",
              "        }\n",
              "      </script>\n",
              "    </div>\n",
              "  </div>\n",
              "  "
            ]
          },
          "metadata": {}
        }
      ],
      "source": [
        "data = pd.read_csv('/content/drive/MyDrive/DA CSVS/Exp 2/training_data_blood_pressure - training_data_blood_pressure.csv')\n",
        "data.head()\n",
        "data = data.drop(columns=['BMI', 'age','gender','Sr. No'], axis=1)\n",
        "display(data)"
      ]
    },
    {
      "cell_type": "code",
      "execution_count": 13,
      "metadata": {
        "id": "7erYn2YMyO57",
        "colab": {
          "base_uri": "https://localhost:8080/"
        },
        "outputId": "06f401a0-e68d-4d28-d9d9-8ef83d55fe54"
      },
      "outputs": [
        {
          "output_type": "stream",
          "name": "stdout",
          "text": [
            "<class 'pandas.core.frame.DataFrame'>\n",
            "RangeIndex: 1177 entries, 0 to 1176\n",
            "Data columns (total 6 columns):\n",
            " #   Column        Non-Null Count  Dtype  \n",
            "---  ------        --------------  -----  \n",
            " 0   hypertensive  1177 non-null   int64  \n",
            " 1   heart rate    1164 non-null   float64\n",
            " 2   Systolic      1161 non-null   float64\n",
            " 3   Diastolic     1161 non-null   float64\n",
            " 4   Temperature   1158 non-null   float64\n",
            " 5   SPO2          1164 non-null   float64\n",
            "dtypes: float64(5), int64(1)\n",
            "memory usage: 55.3 KB\n"
          ]
        }
      ],
      "source": [
        "data.info()"
      ]
    },
    {
      "cell_type": "code",
      "execution_count": 14,
      "metadata": {
        "colab": {
          "base_uri": "https://localhost:8080/",
          "height": 296
        },
        "id": "9n5QSPS1CS8h",
        "outputId": "9880ad42-6387-47e7-aaf0-3e888fc06398"
      },
      "outputs": [
        {
          "output_type": "execute_result",
          "data": {
            "text/plain": [
              "Text(0, 0.5, 'X2')"
            ]
          },
          "metadata": {},
          "execution_count": 14
        },
        {
          "output_type": "display_data",
          "data": {
            "text/plain": [
              "<Figure size 432x288 with 1 Axes>"
            ],
            "image/png": "[encoded data removed]"
          },
          "metadata": {
            "needs_background": "light"
          }
        }
      ],
      "source": [
        "np.random.seed(5)\n",
        "X = np.random.randn(20,2)\n",
        "y = np.repeat([1,-1], 10)\n",
        "X[y == -1] = X[y == -1] +1\n",
        "plt.scatter(X[:,0], X[:,1], s=70, c=y, cmap=mpl.cm.Paired)\n",
        "plt.xlabel('X1')\n",
        "plt.ylabel('X2')"
      ]
    },
    {
      "cell_type": "code",
      "execution_count": 15,
      "metadata": {
        "colab": {
          "base_uri": "https://localhost:8080/",
          "height": 542
        },
        "id": "Ws75OBuz9D_b",
        "outputId": "738bbe20-3b8b-40be-b5cc-dd5e646fd7c1"
      },
      "outputs": [
        {
          "output_type": "display_data",
          "data": {
            "text/html": [
              "<html>\n",
              "<head><meta charset=\"utf-8\" /></head>\n",
              "<body>\n",
              "    <div>            <script src=\"https://cdnjs.cloudflare.com/ajax/libs/mathjax/2.7.5/MathJax.js?config=TeX-AMS-MML_SVG\"></script><script type=\"text/javascript\">if (window.MathJax) {MathJax.Hub.Config({SVG: {font: \"STIX-Web\"}});}</script>                <script type=\"text/javascript\">window.PlotlyConfig = {MathJaxConfig: 'local'};</script>\n",
              "        <script src=\"https://cdn.plot.ly/plotly-2.8.3.min.js\"></script>                <div id=\"2c5ef0a1-1245-4637-b121-41b960f55819\" class=\"plotly-graph-div\" style=\"height:525px; width:100%;\"></div>            <script type=\"text/javascript\">                                    window.PLOTLYENV=window.PLOTLYENV || {};                                    if (document.getElementById(\"2c5ef0a1-1245-4637-b121-41b960f55819\")) {                    Plotly.newPlot(                        \"2c5ef0a1-1245-4637-b121-41b960f55819\",                        [{\"hovertemplate\":\"heart rate=%{x}<br>Systolic=%{y}<br>hypertensive=%{marker.color}<extra></extra>\",\"legendgroup\":\"\",\"marker\":{\"color\":[0,0,0,0,1,1,1,1,1,1,1,1,1,1,1,1,1,1,1,0,0,1,1,1,0,0,1,1,1,1,1,1,0,0,1,1,1,1,0,0,0,1,0,1,1,1,0,0,1,1,1,0,0,1,1,1,1,1,1,1,1,1,1,1,1,1,1,1,1,1,0,0,1,0,1,1,1,1,1,1,1,1,1,1,1,1,1,0,0,1,0,1,0,1,1,1,0,1,1,1,1,0,1,1,1,1,1,1,1,1,1,0,1,0,1,1,0,1,1,1,1,0,1,0,0,1,1,1,1,0,1,1,1,1,1,0,0,1,1,1,1,1,1,1,1,0,1,1,1,1,1,1,0,1,1,1,1,1,1,1,1,0,0,1,1,1,0,1,1,1,1,1,1,1,0,0,0,0,1,1,1,1,1,1,1,1,1,0,1,1,0,1,1,0,1,0,1,1,0,1,1,1,1,1,1,1,1,0,1,1,1,0,1,1,1,0,1,1,1,1,1,1,1,1,1,1,1,1,1,1,1,1,1,0,1,0,1,1,0,1,1,1,1,1,0,1,1,1,1,1,1,1,1,1,1,1,1,1,0,1,1,1,0,0,1,0,1,1,1,1,1,1,1,1,1,1,1,1,1,1,1,1,1,1,1,1,1,0,0,1,1,1,0,0,0,0,1,1,1,0,1,1,0,0,1,0,1,1,1,1,0,1,1,1,1,1,0,1,0,1,1,0,1,1,1,1,1,1,0,1,0,0,1,1,1,0,1,1,1,1,1,1,0,0,0,1,1,1,1,1,0,1,0,1,1,0,1,0,1,1,1,1,0,1,0,0,1,0,1,0,0,0,1,0,1,0,1,0,1,1,1,1,1,1,0,0,1,0,1,1,1,1,0,1,0,1,1,1,0,1,1,0,0,1,1,1,1,1,0,1,0,1,1,0,0,1,1,1,0,1,1,1,1,1,1,1,0,1,1,1,1,0,1,1,1,0,1,1,1,1,1,1,0,1,1,1,1,1,1,1,0,0,0,1,0,1,1,1,1,0,1,1,1,1,1,1,1,1,1,0,1,1,1,0,1,0,0,1,1,0,0,1,0,0,1,0,1,0,1,1,1,1,1,1,1,1,0,0,1,1,1,1,0,0,1,1,1,1,1,0,1,1,0,1,1,0,1,1,1,1,0,1,1,0,1,0,0,1,1,1,1,1,0,1,1,0,0,0,1,1,1,0,0,0,1,1,0,0,0,1,1,1,1,0,1,1,1,0,1,1,0,1,1,1,1,1,1,1,1,0,1,0,0,1,0,1,1,1,0,1,1,0,1,1,1,0,1,1,1,0,1,1,0,0,1,0,1,0,1,1,0,1,1,1,0,1,1,1,1,1,0,0,1,0,1,0,1,0,1,1,1,1,1,1,0,1,1,0,1,1,1,1,1,1,0,1,0,0,1,1,1,1,1,1,1,1,1,0,1,1,1,1,1,1,1,1,1,1,1,1,1,1,1,0,1,1,1,0,0,1,0,1,1,1,1,1,1,0,1,1,1,1,0,1,1,1,1,1,1,1,1,0,1,1,1,1,0,1,1,1,0,0,0,1,1,1,0,1,1,1,1,1,1,0,1,1,1,1,0,0,1,1,1,1,1,0,1,1,1,0,1,1,1,1,1,0,1,0,0,1,1,1,1,1,0,1,1,0,1,0,1,1,1,1,1,1,1,1,0,1,1,0,1,1,1,0,1,1,0,0,1,0,1,1,1,1,0,0,0,0,1,1,0,1,0,1,1,1,1,1,1,1,1,1,0,1,1,1,0,1,1,1,1,0,1,1,1,1,1,1,1,1,0,1,1,1,0,1,0,1,1,0,0,1,1,0,1,1,0,1,1,0,1,1,1,0,0,1,1,1,1,0,0,1,1,1,1,0,1,1,1,1,1,1,0,1,0,0,1,1,1,1,1,1,1,0,1,1,1,1,1,1,1,1,1,0,1,1,0,1,1,0,0,1,1,0,1,0,0,0,0,0,1,0,1,1,1,0,1,0,0,1,1,1,1,0,1,0,1,1,0,1,1,1,0,1,0,1,0,1,1,1,1,1,1,1,1,1,1,1,1,1,1,0,1,1,0,1,0,0,1,1,1,0,1,1,1,1,1,1,1,1,1,1,0,0,0,1,1,1,1,1,1,1,1,0,1,1,1,0,1,1,0,1,0,1,1,1,1,1,1,0,0,1,0,1,1,1,0,1,1,0,1,1,0,1,1,1,1,1,1,0,1,0,0,1,1,1,1,1,1,1,1,0,0,1,1,0,1,0,1,1,0,0,0,0,1,0,0,1,1,1,0,1,1,1,0,1,1,0,1,1,0,1,0,1,1,0,1,0,1,0,1,0,0,1,1,0,0,1,1,0,1,1,1,0,1,0,1,1,0,1,1,1,1,1,0,0,1,1,1,1,0,1,1,1,1,1,1,0,0,1,1,1,0,0,1,1,1,0,1,1,1,1,1,1,0,1,1,0,1,0,0,1,1,0,1,1,1,1,0,1,0,1,1,0,0,1,1,1,1,1,1,1,1,0,1,0,0,0,1,0,1,1,1,1,0,0,1,1,1,0,0,1,1,0,1,0,1,1,1,1,0,1,0,1,0,1,1,1,1,1,1,0,1,0,1],\"coloraxis\":\"coloraxis\",\"symbol\":\"circle\"},\"mode\":\"markers\",\"name\":\"\",\"showlegend\":false,\"x\":[68.83783784,101.3703704,72.31818182,94.5,67.92,74.18181818,69.63636364,84.66666667,91.91666667,75.08333333,95.62962963,65.16,78.83333333,65.86956522,98.54411765,73.48,83.69230769,64.6,82.0,70.08333333,93.17391304,76.38461538,72.75862069,84.95833333,98.5,78.12,66.81818182,90.44444444,103.16,111.44,76.73076923,106.4814815,80.38888889,86.0,99.33333333,83.77777778,69.19354839,101.0357143,126.28125,61.16,80.66666667,107.88,68.72,88.0,72.88461538,85.76190476,71.52380952,84.92,73.78125,73.07407407,88.88461538,69.24,53.68421053,36.0,82.25925926,80.0,59.76,68.5,78.40740741,64.46666667,74.30769231,73.44444444,61.35135135,91.0,68.76923077,80.88,70.04,86.6,114.9615385,69.66666667,107.8484848,67.41860465,60.79166667,75.15384615,61.04166667,84.6,76.7037037,71.47826087,80.38095238,82.58333333,82.27777778,63.34615385,70.59259259,83.23809524,72.54166667,71.50877193,81.23076923,96.24,75.9375,50.25,76.7037037,109.1153846,93.56,86.8,103.84,81.38888889,108.6923077,92.625,90.03703704,90.65517241,90.79166667,81.16,72.05263158,117.3478261,61.29166667,89.16666667,90.43478261,105.5217391,113.7333333,69.875,78.40540541,94.5,76.57692308,87.65517241,61.45454545,112.4583333,91.0,82.90909091,90.19230769,93.2,74.60344828,90.12121212,78.5,92.68,76.7826087,97.45454545,86.06896552,67.30434783,80.2,101.173913,87.36,72.69230769,68.76,87.609375,82.875,91.88,55.58333333,78.8,61.70833333,80.04545455,78.30769231,75.87804878,67.84210526,83.78571429,115.2162162,96.52,60.13333333,70.24,72.70833333,82.04166667,57.79166667,55.39285714,77.26829268,94.9047619,59.66666667,73.31578947,86.15789474,61.0,85.58333333,83.32,69.08,98.68,95.07894737,70.15151515,92.15625,98.95833333,69.875,103.76,66.03846154,92.4,102.6153846,86.36,119.5151515,87.45833333,86.13636364,60.30769231,89.25,59.08333333,65.41666667,92.68571429,72.6969697,85.0,69.88461538,101.1351351,73.0,86.11111111,81.93333333,86.20454545,100.7692308,61.73529412,103.28,105.2857143,86.69565217,84.5,65.75,83.78947368,93.09803922,65.52,65.80769231,50.55555556,88.79166667,112.8181818,91.11111111,106.6153846,88.0,74.19444444,61.82352941,107.3333333,115.7931034,92.92307692,65.2,89.73333333,77.9,120.2222222,95.89285714,98.5625,96.96774194,102.4,72.375,74.8,78.2,73.47826087,80.92307692,81.79166667,58.19354839,68.25,80.69565217,74.34782609,67.72,79.25806452,66.4375,69.0,72.24135498,85.25925926,82.40909091,114.59375,56.6,76.16666667,87.34782609,77.91891892,78.41666667,75.58333333,96.44,67.86363636,77.52,85.5027933,94.48,105.4642857,68.11764706,71.82758621,78.66666667,73.80952381,82.44444444,82.48,79.92307692,110.0294118,96.34883721,85.43478261,80.95652174,60.15384615,90.27586207,81.78571429,69.92,66.9,101.8,82.80769231,77.0,107.0,75.66666667,77.83333333,101.2727273,107.6521739,85.0,79.79166667,60.52941176,73.52173913,67.84615385,80.45833333,79.21212121,96.29166667,92.94871795,116.0714286,77.16666667,64.7826087,97.29166667,66.65217391,90.38095238,79.71875,90.65217391,60.23636364,71.10714286,106.5454545,60.95833333,93.9,66.12,71.92,104.6956522,84.95833333,85.71875,77.29166667,70.725,81.3125,75.13636364,83.96153846,78.45454545,73.38461538,103.4230769,73.71875,63.2,79.6969697,90.13043478,85.41176471,104.7916667,112.2307692,81.33333333,91.14814815,93.11764706,70.11764706,104.862069,90.82758621,73.72727273,88.82758621,95.52173913,80.86666667,126.3793103,69.68,75.0,76.76470588,100.8,61.36,97.16,77.125,114.1923077,80.7037037,60.05555556,108.7857143,105.12,80.2962963,114.2,86.13043478,93.82142857,76.29166667,109.2083333,60.54166667,99.16666667,76.95833333,75.52631579,75.53846154,85.43478261,95.95652174,98.68181818,90.75,87.86666667,61.0,76.20689655,107.04,108.9583333,98.82608696,76.30434783,92.95238095,79.68,80.13333333,66.7,91.63157895,85.31818182,101.3461538,96.62068966,79.70833333,98.41666667,102.6086957,97.93333333,109.36,83.79310345,60.48148148,72.28571429,93.45833333,69.76470588,86.95833333,96.82608696,101.0769231,82.45833333,79.84210526,73.0,69.96,90.04545455,82.12,95.43333333,97.26829268,81.19230769,59.0,92.60869565,108.46875,92.0,113.4583333,103.6785714,66.88461538,74.68,94.125,121.9655172,63.86956522,84.04166667,107.8478261,93.32,65.72727273,67.26086957,109.84,96.79166667,81.96428571,108.675,75.4,87.42424242,94.375,93.94444444,80.44444444,56.76923077,83.83333333,77.21428571,99.41666667,80.42857143,75.32,89.5,71.32,86.15384615,106.0,100.0357143,67.72,118.53125,65.38888889,58.13043478,99.79166667,80.91111111,91.02,98.13207547,68.8372093,56.4,103.5185185,61.0,94.71428571,65.5,85.10638298,73.38461538,89.95833333,110.5666667,39.32142857,78.70833333,64.6,87.125,89.33333333,76.63888889,93.13043478,74.56,71.92,108.16,75.27272727,98.33333333,80.0,63.73529412,95.96428571,112.4347826,95.03225806,66.08695652,99.6,96.88,94.47826087,89.62222222,96.78787879,86.76,67.8,91.24137931,85.04761905,85.77419355,72.6744186,80.74193548,86.91666667,70.4,72.85,108.7407407,80.48,81.64,85.9,85.29166667,96.43478261,118.0,86.70833333,77.76923077,97.69565217,53.13043478,86.80952381,102.0909091,59.85714286,100.09375,100.3095238,92.21875,74.66666667,74.32,94.46153846,93.38461538,70.39285714,93.29166667,91.13793103,96.58333333,73.16666667,117.0263158,64.12,114.7916667,68.94736842,71.7826087,95.30769231,84.32,117.75,102.3636364,91.25925926,63.64705882,82.15625,110.6296296,100.7826087,92.55319149,106.5416667,69.52173913,88.12820513,109.8076923,90.73333333,78.24242424,113.0434783,87.28571429,109.7142857,71.16,72.75,57.95,93.46153846,112.6052632,85.76,79.17241379,79.65217391,88.09090909,85.18,133.0689655,76.42307692,63.72,94.32,80.72,104.125,92.95652174,112.1395349,75.04761905,85.95652174,82.07407407,100.75,113.0526316,99.84848485,105.0416667,80.6,73.68518519,98.3015873,78.04166667,52.47058824,59.38461538,53.90909091,89.70588235,95.60869565,93.41666667,75.47826087,85.56521739,79.15384615,69.91304348,90.21428571,80.33333333,69.56,65.16129032,70.12,88.26666667,72.65384615,90.57142857,64.32142857,60.16,79.44736842,70.26923077,101.2647059,114.0952381,121.75,94.32142857,74.59259259,86.18181818,67.03703704,83.0,120.7826087,104.72,79.68,108.483871,90.36,86.80769231,73.16129032,116.675,92.25925926,134.5652174,107.8181818,113.8266667,83.88888889,70.76,101.0967742,97.52,77.77777778,92.66666667,93.84615385,98.925,83.7826087,70.41666667,108.4583333,70.97366496,97.30434783,84.48,74.95652174,61.15384615,117.6521739,89.66666667,61.0,78.06666667,100.6964286,85.80645161,86.87878788,65.7027027,97.0,95.2,71.97142857,87.0,90.85,103.5833333,110.84,76.13043478,103.0416667,83.73913043,75.58823529,106.7142857,73.18518519,121.0,80.9047619,94.125,88.68421053,117.5714286,80.36363636,73.95454545,88.65384615,92.55172414,67.52631579,93.90909091,99.31818182,121.8,108.8372093,113.6818182,87.03846154,95.28571429,93.79166667,88.31034483,78.22222222,80.41666667,92.28,96.37142857,90.41666667,81.39130435,100.72,70.96153846,99.73913043,99.82608696,108.4545455,108.2727273,62.94736842,135.7083333,70.64705882,105.6764706,97.95833333,97.65384615,97.63157895,78.42857143,59.25,68.61538462,92.80952381,65.36363636,100.7948718,85.60869565,72.36,61.4,62.04166667,75.90322581,105.44,82.08695652,96.375,64.96551724,80.53333333,70.34615385,82.12,59.08695652,80.27777778,71.52,67.58333333,null,74.69230769,67.72,89.0,80.54545455,83.51428571,103.9375,52.80952381,97.85185185,74.89655172,49.0,65.94117647,76.68181818,80.0,86.125,102.0434783,93.56,96.375,null,64.75,67.03225806,55.85714286,83.03571429,62.72727273,111.2,72.42857143,96.61290323,74.21875,70.84375,66.14285714,74.17857143,100.0714286,79.56666667,126.6451613,57.28,110.8148148,67.52,null,88.18518519,96.5,null,null,96.96153846,null,85.92,null,87.0,77.42857143,94.28,91.96,81.91666667,81.92592593,112.4545455,63.85185185,76.83333333,98.625,87.58333333,82.88,77.92,66.75,75.24,92.54545455,129.125,80.0,74.76,81.08,82.29166667,77.75,74.33333333,null,81.84,110.5555556,80.2,101.0,58.66666667,85.67647059,70.77272727,75.79166667,69.21212121,67.11538462,80.13636364,83.28,74.05263158,86.11111111,null,65.25,107.2592593,86.10869565,68.08695652,79.24,65.93548387,77.79166667,76.12,84.92307692,99.16,82.08333333,71.88,68.35294118,89.76,67.19354839,92.46153846,83.88461538,75.19230769,84.02941176,72.54054054,107.6451613,71.6744186,80.96,67.22222222,76.62068966,74.0,80.31818182,56.47058824,70.23913043,74.11111111,68.42307692,101.5833333,91.43478261,86.33333333,69.9047619,87.12903226,69.9047619,76.29166667,87.95833333,103.8148148,null,76.92857143,96.95652174,71.34615385,129.175,75.48148148,95.95,70.125,85.04166667,73.21875,104.1851852,98.5,81.5,79.23076923,79.0,70.55555556,93.32352941,85.82857143,85.02380952,86.54166667,67.52941176,91.53846154,89.36,69.61111111,71.15789474,70.84615385,71.39130435,65.7037037,74.8,72.75,71.12,89.33333333,71.41666667,67.63636364,98.43478261,61.25,86.57692308,92.0,90.84615385,109.1891892,87.96,67.73076923,81.0,86.63934426,89.26829268,71.60606061,92.59259259,76.58333333,70.5,65.22222222,88.47826087,65.0,89.16,121.6071429,88.62068966,107.3783784,91.39393939,84.48571429,74.8,114.7368421,81.91304348,71.13333333,67.44736842,91.0,99.375,108.8076923,84.54166667,62.68181818,79.82608696,104.7906977,97.25714286,67.5,98.53846154,88.29166667,82.37037037,54.17857143,80.78947368,71.45833333,74.18518519,75.92,59.18181818,85.03448276,67.96,72.32142857,93.81818182,80.6,70.0,71.47826087,63.55,87.09090909,104.8214286,88.0,112.1724138,56.40740741,96.5,77.39130435,97.29166667,99.5,75.13333333,76.91304348,62.54545455,81.04545455,75.69565217,95.64,82.0,78.57894737,101.9310345,124.4482759,69.36,57.44,82.375,112.0,63.80952381,81.80769231,77.0,107.0357143,97.11538462,94.0625,85.82142857,114.5862069,96.75,86.71875,80.46875,103.56,93.62790698,88.07317073,112.3703704,67.44444444,82.09090909,74.5862069,122.7826087,92.26530612,78.34615385,105.5,71.54285714,87.36363636,108.0909091,91.54716981,107.4285714,79.24137931,81.08333333,49.69565217,77.59090909,83.03448276,93.8,101.6129032,100.1904762,60.28571429,64.19230769,60.08695652,68.03125,91.4,60.56521739,70.2173913,87.0,92.33333333,82.04166667,88.68,84.0,67.29166667,73.36363636,61.97826087,88.32258065,97.75,103.2916667,66.44736842,86.16666667,90.66666667,114.7272727,91.62962963,99.35483871,91.93333333,91.74193548,63.51612903,63.95833333,71.55555556,103.9583333,63.5625,80.5,76.61904762,87.875,64.27272727,64.19047619,109.2173913,72.81481481,99.59090909,66.75862069,97.20833333,68.32,92.63636364,96.94117647,96.8,97.02325581,93.92307692,70.91666667,118.6956522,91.5625,105.0416667,69.15,90.36363636,83.60869565,65.43478261,84.47058824,91.875,97.3125,91.33333333,102.6538462,81.36666667,72.51851852,126.7222222,73.65217391,81.2,94.32352941,91.9375,115.0416667,73.36363636,68.39130435,73.42105263,96.33333333,65.7826087,115.2631579,109.40625,118.5185185,88.078125,97.37037037,96.96969697,99.08695652,63.83333333,52.81818182,100.1818182,98.83333333,88.19444444,84.78125,59.64285714,83.89655172,88.0,67.33333333,86.82142857,85.32142857,82.0,62.84,99.03571429,90.73076923,96.36,91.23529412,85.03125,115.0416667,70.48837209,82.48484848,83.61290323,63.65217391,111.962963,118.2307692,92.58333333,92.09090909,80.41666667,78.1,64.45833333,99.96666667,88.84090909,104.047619,59.52173913,64.87096774,112.5769231,65.28571429,99.08695652,56.5862069,89.35714286,105.2222222,81.73333333,113.6333333,92.4,83.7826087,80.42857143,58.92105263,107.4,102.6,125.7692308,117.7843137,66.15384615,84.06779661,92.0,54.95652174,null,83.7826087,87.95833333,60.95652174,79.84,58.35,97.27272727,80.5,85.125,86.55,79.7037037,102.8461538,63.86956522,70.53846154,57.43478261,94.75,62.0,77.0,73.44827586,100.8,73.625,110.1153846,73.08333333,69.44,67.33333333,82.25,61.88,75.54545455,80.03703704,109.3461538,98.56521739,89.375,57.26923077,92.90909091,75.53846154,70.91666667,113.1818182,114.625,113.8095238,98.26923077,99.75,101.2222222,null,61.2,63.82142857,65.51851852,54.52380952,76.94117647,94.9,104.0,78.8,75.41935484,64.33333333,66.32,70.86363636,101.7894737,79.79166667,null,109.64,96.53846154,61.30769231,66.20833333,90.0,82.0,91.7,63.44444444,71.45833333,110.1666667,110.4782609,73.61904762,100.125,114.64,52.72,93.4,67.28985507],\"xaxis\":\"x\",\"y\":[155.8666667,140.0,135.3333333,126.4,156.56,118.1,106.5652174,141.1304348,98.43478261,122.0,149.0357143,103.2608696,126.9032258,112.1428571,107.36,159.6956522,157.2894737,113.28,162.24,112.4166667,105.6086957,95.44444444,117.0263158,116.1785714,132.9090909,104.3478261,136.6363636,106.9411765,100.0,116.9130435,115.6538462,126.25,139.0526316,101.7058824,131.3333333,114.2222222,130.5185185,117.7857143,101.5064935,115.4736842,102.5,95.4,99.125,113.4230769,113.8076923,96.1,109.9803922,122.6216216,128.4857143,110.7142857,120.2962963,96.04545455,107.1111111,135.0,111.4,114.5135135,116.9565217,105.64,133.9615385,101.9333333,116.9166667,129.4571429,111.7916667,127.4545455,134.8928571,121.625,128.9583333,120.4,94.625,89.2173913,106.5666667,127.25,121.9130435,135.173913,117.6086957,118.4814815,121.0,107.7,99.9047619,131.375,111.7857143,130.2,128.8148148,98.61904762,113.3333333,114.8333333,146.6,125.125,107.9,118.4347826,114.5277778,111.36,104.1724138,147.5,122.08,106.5714286,102.3103448,121.9047619,131.4782609,138.6,123.2857143,93.12,142.9285714,144.5454545,134.6521739,99.0,119.3478261,100.4761905,104.76,129.1428571,139.7272727,101.9259259,106.52,111.3529412,138.7575758,121.875,102.0,123.2857143,null,126.5833333,125.031746,95.85714286,141.375,115.0,146.1818182,130.6190476,134.8333333,107.6666667,142.3478261,163.7391304,138.4615385,105.4166667,119.7727273,101.031746,95.71428571,118.4166667,122.4583333,105.7878788,136.0869565,117.4090909,108.8076923,98.89583333,140.3235294,124.9615385,98.56603774,119.36,122.8275862,114.88,126.2916667,155.3043478,105.4285714,146.975,128.7173913,130.6315789,108.2,145.1578947,117.8947368,138.0416667,130.7058824,124.1363636,122.84,117.0,107.9428571,149.9411765,110.8235294,93.72727273,108.5,97.95454545,117.08,116.8333333,122.4347826,122.8,101.6206897,115.5,121.9,133.2608696,142.6956522,112.0416667,135.9615385,110.9354839,127.8333333,142.25,125.3846154,108.3421053,99.375,144.08,120.6,110.3333333,95.48387097,130.0,147.36,127.0,123.6363636,98.21052632,121.7307692,111.4117647,117.3207547,117.0,91.35294118,138.3529412,120.7391304,99.5,124.8333333,95.6,167.9090909,163.7948718,136.05,95.75,94.0,106.0,118.3181818,113.7741935,118.2666667,131.7727273,98.46153846,152.3548387,147.1,106.3913043,98.83333333,115.2,110.7894737,120.0416667,144.1153846,111.7727273,119.1142857,108.7083333,143.0769231,118.5925926,116.1111111,141.4237288,125.0,143.96,113.3515024,106.0740741,100.8695652,112.5,120.9259259,106.6956522,121.1304348,139.5,117.75,140.0416667,139.0869565,97.33333333,146.375,112.8301887,157.6538462,107.8148148,154.0,107.5357143,101.6666667,137.047619,126.0,126.4583333,121.88,132.9444444,94.80952381,103.3636364,99.86956522,118.7777778,90.2,88.19230769,94.56,103.36,160.9444444,99.56,143.2916667,118.0294118,148.0833333,118.1612903,120.2727273,127.7619048,119.5609756,94.12,134.4901961,129.4347826,127.9230769,126.0833333,109.9333333,110.0,137.5,116.1282051,124.4166667,141.0869565,115.5652174,123.1304348,105.5,109.71875,99.69565217,129.1492537,126.5925926,110.5,108.0,111.5483871,95.84,128.6666667,125.3043478,115.2916667,120.5483871,113.4782609,118.95,182.4848485,113.7272727,105.4615385,98.75,106.025,144.68,113.71875,109.76,115.4848485,82.45454545,94.23529412,157.3333333,105.68,115.8695652,133.84,125.8064516,120.4117647,118.5,141.4285714,118.0,105.3793103,127.6666667,131.4545455,106.1428571,90.86363636,93.44,141.8235294,116.25,152.3913043,89.41666667,140.6428571,116.25,122.8076923,173.4736842,105.6296296,135.826087,118.962963,96.6,180.6956522,90.16,153.5652174,94.0,173.5652174,127.7272727,121.4166667,163.5283019,126.8947368,108.75,131.9473684,102.7272727,107.0,121.08,122.68,133.4494382,124.4375,119.4347826,114.5416667,106.0434783,110.7368421,113.5652174,96.93333333,103.3103448,120.3181818,101.2105263,96.60714286,120.3928571,101.2777778,153.8461538,145.5909091,100.0666667,134.0,130.5526316,134.7407407,117.2142857,99.86956522,137.0,99.29166667,150.047619,120.4,115.09375,96.5,102.6190476,115.2962963,141.047619,120.9230769,107.9285714,104.6315789,108.8928571,115.3870968,97.95652174,114.9230769,124.36,115.7727273,122.7916667,127.8461538,118.2608696,106.5,97.65517241,128.7727273,110.1363636,94.73333333,127.3846154,115.7058824,117.1304348,111.173913,105.0434783,100.28125,106.1842105,140.375,105.92,112.2272727,121.2222222,103.826087,105.9230769,150.2916667,160.1666667,97.42857143,101.9473684,150.9583333,105.2916667,101.84,141.7777778,107.3529412,105.5111111,124.1481481,110.0967742,129.5333333,169.8095238,125.6086957,108.8604651,98.61363636,107.7123288,null,105.5517241,126.9189189,112.8181818,172.45,141.2272727,116.893617,105.9166667,105.75,96.53333333,157.3448276,114.6956522,106.3478261,132.3478261,98.64912281,130.7,146.9166667,140.7,115.0,124.8333333,122.6956522,104.6521739,109.2173913,114.3823529,113.1538462,106.5652174,96.65517241,106.9047619,121.25,114.9166667,115.6842105,95.37037037,94.40625,134.2333333,115.35,107.4516129,95.78571429,109.1612903,104.96,109.0,121.7083333,106.2352941,109.0,107.6785714,109.875,105.88,95.19230769,121.9583333,134.8181818,100.4193548,102.962963,101.5769231,96.3,105.8181818,129.3,99.21052632,117.75,112.96875,117.3636364,107.6060606,108.5185185,117.48,119.875,92.23076923,112.5357143,123.9545455,97.38235294,103.9285714,109.5652174,96.88888889,119.2916667,124.173913,151.3333333,122.0,107.7083333,154.44,103.4583333,110.25,136.0384615,120.0227273,126.9272727,132.4285714,124.2857143,174.244898,98.08333333,118.8636364,85.88571429,103.08,115.9666667,104.1714286,119.6,112.5454545,99.44827586,109.0,128.3333333,131.4736842,117.32,76.97619048,130.6521739,135.3103448,104.826087,106.7272727,95.51785714,129.8275862,133.3684211,133.6666667,139.5217391,152.96,108.2083333,128.625,121.4893617,152.8095238,161.7391304,108.4074074,116.4166667,100.7234043,95.26666667,119.3809524,114.5142857,104.7166667,88.76666667,99.29166667,105.7333333,168.1304348,113.75,102.884058,122.1363636,94.59259259,107.6521739,122.8095238,129.3793103,139.3913043,138.28,110.75,136.7391304,107.8,116.8636364,105.0769231,108.6625,104.1785714,137.12,147.5833333,113.2894737,100.6,98.32142857,116.0,112.5483871,115.8095238,108.5714286,142.7727273,145.4230769,105.6956522,104.2380952,112.04,108.0,148.0,95.04545455,98.3,102.3548387,94.88095238,121.3846154,117.2380952,125.6,106.0909091,119.8214286,153.2380952,97.93103448,105.1666667,106.9615385,110.375,98.86956522,86.63636364,105.7727273,93.32142857,106.6071429,106.4144852,113.4782609,135.2,127.3913043,124.8076923,89.86956522,118.3636364,110.5769231,120.0689655,85.35714286,110.0227273,97.6969697,150.6666667,146.6071429,110.1132075,102.2368421,128.173913,117.85,105.16,109.2083333,117.0833333,128.4615385,98.0,108.1764706,153.8,112.8888889,119.787234,101.2380952,107.8571429,88.51515152,103.625,108.5151515,133.7727273,142.2692308,125.6296296,130.4761905,115.5454545,139.65,118.36,103.8139535,101.173913,114.6363636,92.40740741,119.826087,138.5,120.4545455,118.5416667,115.5652174,121.28125,98.16666667,120.15,106.2,96.75,95.17391304,104.0454545,116.5,97.17647059,104.7894737,100.3673469,107.4117647,105.6571429,109.7692308,92.48,140.2222222,111.0952381,126.75,109.7916667,140.4285714,85.95238095,116.1276596,123.9565217,127.28,133.4583333,125.1904762,142.3076923,108.8181818,112.0,112.4782609,140.9259259,137.6923077,138.6923077,130.3809524,117.35,118.6875,124.6666667,124.7777778,null,126.0571429,132.4166667,140.375,130.4,153.3333333,127.2903226,156.5263158,138.2222222,103.4583333,119.7083333,125.4705882,107.3636364,129.3043478,125.1666667,131.5,135.3043478,115.2083333,null,122.8947368,113.4137931,121.9047619,160.0,128.8636364,94.33333333,107.1428571,123.1666667,124.9642857,111.2307692,109.25,203.0,92.82758621,103.5666667,137.6792453,113.3076923,141.962963,123.125,null,96.07142857,115.1111111,null,null,88.95454545,null,104.0,null,144.0833333,135.8,132.0434783,115.7826087,112.5652174,119.5416667,99.25,118.16,117.0909091,119.7083333,161.0,107.0,134.04,108.6296296,119.7826087,108.2058824,144.8571429,103.56,98.83333333,135.0909091,105.1304348,96.06896552,138.1666667,null,126.16,147.0555556,129.3913043,104.04,107.1142857,101.1176471,121.1052632,116.25,98.90625,121.52,151.0,145.6,94.64705882,107.48,null,157.2222222,80.6,112.4634146,102.0,124.76,140.137931,112.0833333,142.6666667,107.8181818,97.79166667,157.0,95.0,117.4166667,100.36,128.5185185,108.4166667,112.08,121.7307692,127.9459459,85.59459459,104.1785714,147.4186047,116.8461538,118.962963,99.67857143,120.8333333,145.1904762,143.9411765,130.675,90.85714286,125.2666667,98.2,165.3636364,149.8235294,112.8095238,133.3666667,109.55,86.26086957,110.875,120.36,null,115.9642857,123.625,136.4571429,79.23076923,121.0714286,92.38888889,145.6923077,153.8333333,129.3055556,127.125,109.4166667,102.7027027,123.037037,133.5,110.3333333,121.3870968,173.03125,118.875,112.6956522,146.2666667,102.7142857,104.9259259,85.05882353,115.3,135.925,119.9130435,138.0,112.2051282,133.0,111.7826087,122.5217391,110.2272727,132.5294118,100.9545455,103.5789474,97.92307692,104.3333333,137.2916667,100.6956522,148.25,128.5833333,137.9,87.69387755,123.1463415,null,110.2,121.2083333,155.32,134.9,102.2916667,119.1363636,120.9655172,146.12,122.5172414,120.125,97.03225806,107.7647059,93.41666667,113.8214286,99.79166667,90.44827586,103.8,109.6363636,143.4347826,137.6956522,110.25,91.12195122,144.9047619,101.3333333,99.91428571,89.82142857,97.85185185,107.52,101.71875,99.42307692,88.0625,105.5454545,101.0967742,112.4166667,121.952381,99.7,108.1538462,106.8695652,116.4090909,96.03333333,104.9583333,122.173913,138.25,106.5909091,115.826087,106.0952381,130.5789474,106.8518519,145.826087,130.8695652,109.7727273,129.625,118.4583333,111.95,145.1818182,110.0869565,137.0909091,128.8461538,125.12,120.2631579,149.2592593,134.2142857,152.375,109.2222222,168.55,111.2380952,141.0,128.6923077,135.9583333,119.6071429,103.16,108.4782609,75.0,113.1785714,129.7916667,100.5,104.78125,125.9565217,97.82926829,105.3333333,146.3103448,107.3333333,102.8529412,108.4642857,132.8571429,138.7843137,131.88,106.6521739,95.02941176,130.5714286,145.4545455,94.85106383,94.64102564,110.0882353,135.7083333,128.7777778,117.047619,98.65306122,124.6521739,119.7878788,98.4,141.0,117.92,136.0434783,98.44,116.7368421,121.9565217,110.9565217,131.0,101.56,102.2173913,137.3181818,118.1153846,116.4782609,121.2121212,96.25,101.0555556,109.7741935,125.5,107.8947368,98.34782609,99.27586207,128.5,123.8461538,105.2666667,140.0,128.1935484,129.0,127.5,111.3636364,94.72727273,117.8352941,162.3043478,118.8571429,112.0833333,117.1333333,124.1904762,110.9565217,125.44,131.8421053,112.5151515,126.7916667,99.17391304,98.68,98.61111111,104.0833333,100.0,100.0869565,105.3478261,132.0,119.1,115.7083333,102.9166667,123.7894737,108.3043478,130.5217391,105.1034483,112.2857143,98.51612903,116.875,98.36619718,120.1851852,112.4666667,116.2222222,119.3913043,111.5,125.0294118,105.2580645,109.9583333,133.1428571,85.59090909,125.6666667,128.0,116.4090909,112.3529412,85.28125,124.92,136.3968254,103.8636364,114.2777778,119.4583333,118.0,98.71428571,135.0,116.3333333,91.0,95.65957447,104.3,103.7692308,123.5555556,115.2083333,95.51851852,141.037037,109.6956522,124.7894737,106.962963,101.0571429,119.0833333,105.8301887,125.3571429,118.3478261,104.15,110.3703704,99.41935484,99.91304348,108.7307692,115.7307692,141.7826087,97.04545455,107.34375,119.2962963,108.2962963,105.875,96.75,98.65909091,114.2222222,125.9736842,102.6363636,110.7826087,111.5714286,95.0,106.6285714,106.95,109.0,122.7586207,97.13043478,109.3913043,116.3,101.3333333,101.2272727,116.4,103.3030303,101.1929825,103.0769231,90.54761905,103.625,117.9090909,null,126.1,128.1666667,105.3913043,113.4,126.5454545,130.0909091,117.0,119.826087,140.8333333,125.2222222,124.6666667,122.2916667,110.25,133.1428571,100.2608696,112.0,137.5,121.2666667,102.0555556,126.8333333,93.58333333,117.6086957,115.0833333,155.2272727,145.6206897,116.4782609,97.13333333,123.0833333,97.875,117.5909091,131.5,121.3461538,111.8636364,128.0,117.3333333,121.3333333,106.4347826,133.2631579,136.88,110.8,102.1111111,null,112.0,155.1428571,112.0869565,114.35,129.5882353,128.7894737,101.7058824,149.0384615,99.35483871,138.125,111.16,131.9047619,129.3333333,104.0645161,null,136.4166667,100.9565217,128.75,112.9166667,103.44,102.09375,139.3684211,101.4615385,108.88,120.3809524,117.9545455,129.5238095,142.5454545,101.2222222,137.7916667,94.41666667,131.5230769],\"yaxis\":\"y\",\"type\":\"scattergl\"}],                        {\"template\":{\"data\":{\"bar\":[{\"error_x\":{\"color\":\"#2a3f5f\"},\"error_y\":{\"color\":\"#2a3f5f\"},\"marker\":{\"line\":{\"color\":\"#E5ECF6\",\"width\":0.5},\"pattern\":{\"fillmode\":\"overlay\",\"size\":10,\"solidity\":0.2}},\"type\":\"bar\"}],\"barpolar\":[{\"marker\":{\"line\":{\"color\":\"#E5ECF6\",\"width\":0.5},\"pattern\":{\"fillmode\":\"overlay\",\"size\":10,\"solidity\":0.2}},\"type\":\"barpolar\"}],\"carpet\":[{\"aaxis\":{\"endlinecolor\":\"#2a3f5f\",\"gridcolor\":\"white\",\"linecolor\":\"white\",\"minorgridcolor\":\"white\",\"startlinecolor\":\"#2a3f5f\"},\"baxis\":{\"endlinecolor\":\"#2a3f5f\",\"gridcolor\":\"white\",\"linecolor\":\"white\",\"minorgridcolor\":\"white\",\"startlinecolor\":\"#2a3f5f\"},\"type\":\"carpet\"}],\"choropleth\":[{\"colorbar\":{\"outlinewidth\":0,\"ticks\":\"\"},\"type\":\"choropleth\"}],\"contour\":[{\"colorbar\":{\"outlinewidth\":0,\"ticks\":\"\"},\"colorscale\":[[0.0,\"#0d0887\"],[0.1111111111111111,\"#46039f\"],[0.2222222222222222,\"#7201a8\"],[0.3333333333333333,\"#9c179e\"],[0.4444444444444444,\"#bd3786\"],[0.5555555555555556,\"#d8576b\"],[0.6666666666666666,\"#ed7953\"],[0.7777777777777778,\"#fb9f3a\"],[0.8888888888888888,\"#fdca26\"],[1.0,\"#f0f921\"]],\"type\":\"contour\"}],\"contourcarpet\":[{\"colorbar\":{\"outlinewidth\":0,\"ticks\":\"\"},\"type\":\"contourcarpet\"}],\"heatmap\":[{\"colorbar\":{\"outlinewidth\":0,\"ticks\":\"\"},\"colorscale\":[[0.0,\"#0d0887\"],[0.1111111111111111,\"#46039f\"],[0.2222222222222222,\"#7201a8\"],[0.3333333333333333,\"#9c179e\"],[0.4444444444444444,\"#bd3786\"],[0.5555555555555556,\"#d8576b\"],[0.6666666666666666,\"#ed7953\"],[0.7777777777777778,\"#fb9f3a\"],[0.8888888888888888,\"#fdca26\"],[1.0,\"#f0f921\"]],\"type\":\"heatmap\"}],\"heatmapgl\":[{\"colorbar\":{\"outlinewidth\":0,\"ticks\":\"\"},\"colorscale\":[[0.0,\"#0d0887\"],[0.1111111111111111,\"#46039f\"],[0.2222222222222222,\"#7201a8\"],[0.3333333333333333,\"#9c179e\"],[0.4444444444444444,\"#bd3786\"],[0.5555555555555556,\"#d8576b\"],[0.6666666666666666,\"#ed7953\"],[0.7777777777777778,\"#fb9f3a\"],[0.8888888888888888,\"#fdca26\"],[1.0,\"#f0f921\"]],\"type\":\"heatmapgl\"}],\"histogram\":[{\"marker\":{\"pattern\":{\"fillmode\":\"overlay\",\"size\":10,\"solidity\":0.2}},\"type\":\"histogram\"}],\"histogram2d\":[{\"colorbar\":{\"outlinewidth\":0,\"ticks\":\"\"},\"colorscale\":[[0.0,\"#0d0887\"],[0.1111111111111111,\"#46039f\"],[0.2222222222222222,\"#7201a8\"],[0.3333333333333333,\"#9c179e\"],[0.4444444444444444,\"#bd3786\"],[0.5555555555555556,\"#d8576b\"],[0.6666666666666666,\"#ed7953\"],[0.7777777777777778,\"#fb9f3a\"],[0.8888888888888888,\"#fdca26\"],[1.0,\"#f0f921\"]],\"type\":\"histogram2d\"}],\"histogram2dcontour\":[{\"colorbar\":{\"outlinewidth\":0,\"ticks\":\"\"},\"colorscale\":[[0.0,\"#0d0887\"],[0.1111111111111111,\"#46039f\"],[0.2222222222222222,\"#7201a8\"],[0.3333333333333333,\"#9c179e\"],[0.4444444444444444,\"#bd3786\"],[0.5555555555555556,\"#d8576b\"],[0.6666666666666666,\"#ed7953\"],[0.7777777777777778,\"#fb9f3a\"],[0.8888888888888888,\"#fdca26\"],[1.0,\"#f0f921\"]],\"type\":\"histogram2dcontour\"}],\"mesh3d\":[{\"colorbar\":{\"outlinewidth\":0,\"ticks\":\"\"},\"type\":\"mesh3d\"}],\"parcoords\":[{\"line\":{\"colorbar\":{\"outlinewidth\":0,\"ticks\":\"\"}},\"type\":\"parcoords\"}],\"pie\":[{\"automargin\":true,\"type\":\"pie\"}],\"scatter\":[{\"marker\":{\"colorbar\":{\"outlinewidth\":0,\"ticks\":\"\"}},\"type\":\"scatter\"}],\"scatter3d\":[{\"line\":{\"colorbar\":{\"outlinewidth\":0,\"ticks\":\"\"}},\"marker\":{\"colorbar\":{\"outlinewidth\":0,\"ticks\":\"\"}},\"type\":\"scatter3d\"}],\"scattercarpet\":[{\"marker\":{\"colorbar\":{\"outlinewidth\":0,\"ticks\":\"\"}},\"type\":\"scattercarpet\"}],\"scattergeo\":[{\"marker\":{\"colorbar\":{\"outlinewidth\":0,\"ticks\":\"\"}},\"type\":\"scattergeo\"}],\"scattergl\":[{\"marker\":{\"colorbar\":{\"outlinewidth\":0,\"ticks\":\"\"}},\"type\":\"scattergl\"}],\"scattermapbox\":[{\"marker\":{\"colorbar\":{\"outlinewidth\":0,\"ticks\":\"\"}},\"type\":\"scattermapbox\"}],\"scatterpolar\":[{\"marker\":{\"colorbar\":{\"outlinewidth\":0,\"ticks\":\"\"}},\"type\":\"scatterpolar\"}],\"scatterpolargl\":[{\"marker\":{\"colorbar\":{\"outlinewidth\":0,\"ticks\":\"\"}},\"type\":\"scatterpolargl\"}],\"scatterternary\":[{\"marker\":{\"colorbar\":{\"outlinewidth\":0,\"ticks\":\"\"}},\"type\":\"scatterternary\"}],\"surface\":[{\"colorbar\":{\"outlinewidth\":0,\"ticks\":\"\"},\"colorscale\":[[0.0,\"#0d0887\"],[0.1111111111111111,\"#46039f\"],[0.2222222222222222,\"#7201a8\"],[0.3333333333333333,\"#9c179e\"],[0.4444444444444444,\"#bd3786\"],[0.5555555555555556,\"#d8576b\"],[0.6666666666666666,\"#ed7953\"],[0.7777777777777778,\"#fb9f3a\"],[0.8888888888888888,\"#fdca26\"],[1.0,\"#f0f921\"]],\"type\":\"surface\"}],\"table\":[{\"cells\":{\"fill\":{\"color\":\"#EBF0F8\"},\"line\":{\"color\":\"white\"}},\"header\":{\"fill\":{\"color\":\"#C8D4E3\"},\"line\":{\"color\":\"white\"}},\"type\":\"table\"}]},\"layout\":{\"annotationdefaults\":{\"arrowcolor\":\"#2a3f5f\",\"arrowhead\":0,\"arrowwidth\":1},\"autotypenumbers\":\"strict\",\"coloraxis\":{\"colorbar\":{\"outlinewidth\":0,\"ticks\":\"\"}},\"colorscale\":{\"diverging\":[[0,\"#8e0152\"],[0.1,\"#c51b7d\"],[0.2,\"#de77ae\"],[0.3,\"#f1b6da\"],[0.4,\"#fde0ef\"],[0.5,\"#f7f7f7\"],[0.6,\"#e6f5d0\"],[0.7,\"#b8e186\"],[0.8,\"#7fbc41\"],[0.9,\"#4d9221\"],[1,\"#276419\"]],\"sequential\":[[0.0,\"#0d0887\"],[0.1111111111111111,\"#46039f\"],[0.2222222222222222,\"#7201a8\"],[0.3333333333333333,\"#9c179e\"],[0.4444444444444444,\"#bd3786\"],[0.5555555555555556,\"#d8576b\"],[0.6666666666666666,\"#ed7953\"],[0.7777777777777778,\"#fb9f3a\"],[0.8888888888888888,\"#fdca26\"],[1.0,\"#f0f921\"]],\"sequentialminus\":[[0.0,\"#0d0887\"],[0.1111111111111111,\"#46039f\"],[0.2222222222222222,\"#7201a8\"],[0.3333333333333333,\"#9c179e\"],[0.4444444444444444,\"#bd3786\"],[0.5555555555555556,\"#d8576b\"],[0.6666666666666666,\"#ed7953\"],[0.7777777777777778,\"#fb9f3a\"],[0.8888888888888888,\"#fdca26\"],[1.0,\"#f0f921\"]]},\"colorway\":[\"#636efa\",\"#EF553B\",\"#00cc96\",\"#ab63fa\",\"#FFA15A\",\"#19d3f3\",\"#FF6692\",\"#B6E880\",\"#FF97FF\",\"#FECB52\"],\"font\":{\"color\":\"#2a3f5f\"},\"geo\":{\"bgcolor\":\"white\",\"lakecolor\":\"white\",\"landcolor\":\"#E5ECF6\",\"showlakes\":true,\"showland\":true,\"subunitcolor\":\"white\"},\"hoverlabel\":{\"align\":\"left\"},\"hovermode\":\"closest\",\"mapbox\":{\"style\":\"light\"},\"paper_bgcolor\":\"white\",\"plot_bgcolor\":\"#E5ECF6\",\"polar\":{\"angularaxis\":{\"gridcolor\":\"white\",\"linecolor\":\"white\",\"ticks\":\"\"},\"bgcolor\":\"#E5ECF6\",\"radialaxis\":{\"gridcolor\":\"white\",\"linecolor\":\"white\",\"ticks\":\"\"}},\"scene\":{\"xaxis\":{\"backgroundcolor\":\"#E5ECF6\",\"gridcolor\":\"white\",\"gridwidth\":2,\"linecolor\":\"white\",\"showbackground\":true,\"ticks\":\"\",\"zerolinecolor\":\"white\"},\"yaxis\":{\"backgroundcolor\":\"#E5ECF6\",\"gridcolor\":\"white\",\"gridwidth\":2,\"linecolor\":\"white\",\"showbackground\":true,\"ticks\":\"\",\"zerolinecolor\":\"white\"},\"zaxis\":{\"backgroundcolor\":\"#E5ECF6\",\"gridcolor\":\"white\",\"gridwidth\":2,\"linecolor\":\"white\",\"showbackground\":true,\"ticks\":\"\",\"zerolinecolor\":\"white\"}},\"shapedefaults\":{\"line\":{\"color\":\"#2a3f5f\"}},\"ternary\":{\"aaxis\":{\"gridcolor\":\"white\",\"linecolor\":\"white\",\"ticks\":\"\"},\"baxis\":{\"gridcolor\":\"white\",\"linecolor\":\"white\",\"ticks\":\"\"},\"bgcolor\":\"#E5ECF6\",\"caxis\":{\"gridcolor\":\"white\",\"linecolor\":\"white\",\"ticks\":\"\"}},\"title\":{\"x\":0.05},\"xaxis\":{\"automargin\":true,\"gridcolor\":\"white\",\"linecolor\":\"white\",\"ticks\":\"\",\"title\":{\"standoff\":15},\"zerolinecolor\":\"white\",\"zerolinewidth\":2},\"yaxis\":{\"automargin\":true,\"gridcolor\":\"white\",\"linecolor\":\"white\",\"ticks\":\"\",\"title\":{\"standoff\":15},\"zerolinecolor\":\"white\",\"zerolinewidth\":2}}},\"xaxis\":{\"anchor\":\"y\",\"domain\":[0.0,1.0],\"title\":{\"text\":\"heart rate\"}},\"yaxis\":{\"anchor\":\"x\",\"domain\":[0.0,1.0],\"title\":{\"text\":\"Systolic\"}},\"coloraxis\":{\"colorbar\":{\"title\":{\"text\":\"hypertensive\"}},\"colorscale\":[[0.0,\"#0d0887\"],[0.1111111111111111,\"#46039f\"],[0.2222222222222222,\"#7201a8\"],[0.3333333333333333,\"#9c179e\"],[0.4444444444444444,\"#bd3786\"],[0.5555555555555556,\"#d8576b\"],[0.6666666666666666,\"#ed7953\"],[0.7777777777777778,\"#fb9f3a\"],[0.8888888888888888,\"#fdca26\"],[1.0,\"#f0f921\"]]},\"legend\":{\"tracegroupgap\":0},\"margin\":{\"t\":60}},                        {\"responsive\": true}                    ).then(function(){\n",
              "                            \n",
              "var gd = document.getElementById('2c5ef0a1-1245-4637-b121-41b960f55819');\n",
              "var x = new MutationObserver(function (mutations, observer) {{\n",
              "        var display = window.getComputedStyle(gd).display;\n",
              "        if (!display || display === 'none') {{\n",
              "            console.log([gd, 'removed!']);\n",
              "            Plotly.purge(gd);\n",
              "            observer.disconnect();\n",
              "        }}\n",
              "}});\n",
              "\n",
              "// Listen for the removal of the full notebook cells\n",
              "var notebookContainer = gd.closest('#notebook-container');\n",
              "if (notebookContainer) {{\n",
              "    x.observe(notebookContainer, {childList: true});\n",
              "}}\n",
              "\n",
              "// Listen for the clearing of the current output cell\n",
              "var outputEl = gd.closest('.output');\n",
              "if (outputEl) {{\n",
              "    x.observe(outputEl, {childList: true});\n",
              "}}\n",
              "\n",
              "                        })                };                            </script>        </div>\n",
              "</body>\n",
              "</html>"
            ]
          },
          "metadata": {}
        }
      ],
      "source": [
        "fig = px.scatter(data, x='heart rate', y='Systolic', color='hypertensive')\n",
        "fig.show()"
      ]
    },
    {
      "cell_type": "markdown",
      "source": [
        "# Conclusion:\n",
        "\n",
        "SVM is one of the most popular Supervised Learning algorithms, which is used for Classification as well as Regression problems.The goal of the SVM algorithm is to create the best line or decision boundary that can segregate n-dimensional space into classes so that we can easily put the new data point in the correct category in the future."
      ],
      "metadata": {
        "id": "mB4IoBSvheDh"
      }
    }
  ],
  "metadata": {
    "colab": {
      "collapsed_sections": [],
      "name": "DA_Exp6.ipynb",
      "provenance": [],
      "include_colab_link": true
    },
    "kernelspec": {
      "display_name": "Python 3",
      "name": "python3"
    },
    "language_info": {
      "name": "python"
    }
  },
  "nbformat": 4,
  "nbformat_minor": 0
}